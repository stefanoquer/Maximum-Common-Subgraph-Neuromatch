{
  "cells": [
    {
      "cell_type": "markdown",
      "metadata": {
        "id": "AxTbNgAbpVJd"
      },
      "source": [
        "# Imports\n"
      ]
    },
    {
      "cell_type": "code",
      "execution_count": 1,
      "metadata": {
        "colab": {
          "base_uri": "https://localhost:8080/"
        },
        "id": "H0azrBxIpVJg",
        "outputId": "5cc9929f-99e1-49d9-dada-c536dc80286c"
      },
      "outputs": [],
      "source": [
        "import sys, os\n",
        "sys.path.insert(0, os.path.abspath(\"/home/tom/tesi/MCSHeuristicCpp\"))\n",
        "\n",
        "import argparse\n",
        "\n",
        "import torch\n",
        "\n",
        "import matplotlib.pyplot as plt\n",
        "plt.rcParams.update({'font.size': 16})\n",
        "\n",
        "from common import models\n",
        "from common import utils\n",
        "from subgraph_matching.config import parse_encoder\n",
        "import compute_vector"
      ]
    },
    {
      "cell_type": "markdown",
      "metadata": {
        "id": "mAWX1M1E0yMC"
      },
      "source": [
        "## Load model"
      ]
    },
    {
      "cell_type": "code",
      "execution_count": 2,
      "metadata": {
        "colab": {
          "base_uri": "https://localhost:8080/"
        },
        "id": "QRRRUO8gpVJq",
        "outputId": "3cae1f09-1715-4453-af0e-7d67209da33b"
      },
      "outputs": [
        {
          "name": "stdout",
          "output_type": "stream",
          "text": [
            "Using dataset syn\n"
          ]
        },
        {
          "data": {
            "text/plain": [
              "<All keys matched successfully>"
            ]
          },
          "execution_count": 2,
          "metadata": {},
          "output_type": "execute_result"
        }
      ],
      "source": [
        "parser = argparse.ArgumentParser()\n",
        "\n",
        "utils.parse_optimizer(parser)\n",
        "parse_encoder(parser)\n",
        "args = parser.parse_args(\"\")\n",
        "args.model_path = os.path.join(\"..\", \"ckpt/model.pt\")\n",
        "\n",
        "print(\"Using dataset {}\".format(args.dataset))\n",
        "model = models.OrderEmbedder(1, args.hidden_dim, args)\n",
        "model.to(utils.get_device())\n",
        "model.eval()\n",
        "model.load_state_dict(torch.load(\"/home/tom/tesi/MCSHeuristicCpp/ckpt/model.pt\", map_location=utils.get_device()))"
      ]
    },
    {
      "cell_type": "code",
      "execution_count": 3,
      "metadata": {
        "colab": {
          "background_save": true,
          "base_uri": "https://localhost:8080/"
        },
        "id": "fPx9X3Fv0vj9",
        "outputId": "53aba5c9-e6bd-4821-c6c3-20322a1ee4cb"
      },
      "outputs": [],
      "source": [
        "testPath = \"/home/tom/tesi/MCSHeuristicCpp/text_ben/fast_test\"\n",
        "resultsMcCreesh = compute_vector.launch_solver_fulltest(folderPath=testPath, vertex_labeled=False, directed=False, connected=False, edge_labeled=False, timeout= 600.0, model=model, heuristic = \"total_similarity\", hops=2, batch_size = 1, savetest_file='/home/tom/tesi/MCSHeuristic/json/BN_H1_mcs10_bvg_b03.json')"
      ]
    }
  ],
  "metadata": {
    "accelerator": "GPU",
    "colab": {
      "collapsed_sections": [],
      "name": "Testing Heuristics H2.ipynb",
      "provenance": []
    },
    "interpreter": {
      "hash": "36cf16204b8548560b1c020c4e8fb5b57f0e4c58016f52f2d4be01e192833930"
    },
    "kernelspec": {
      "display_name": "Python 3.9.7 64-bit",
      "name": "python3"
    },
    "language_info": {
      "codemirror_mode": {
        "name": "ipython",
        "version": 3
      },
      "file_extension": ".py",
      "mimetype": "text/x-python",
      "name": "python",
      "nbconvert_exporter": "python",
      "pygments_lexer": "ipython3",
      "version": "3.9.7"
    }
  },
  "nbformat": 4,
  "nbformat_minor": 2
}
